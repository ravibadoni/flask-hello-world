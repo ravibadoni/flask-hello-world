{
 "cells": [
  {
   "cell_type": "code",
   "execution_count": 1,
   "metadata": {},
   "outputs": [],
   "source": [
    "from preprocess_data import FightDataPreprocessor\n",
    "import tensorflow.keras as tf"
   ]
  },
  {
   "cell_type": "code",
   "execution_count": 2,
   "metadata": {},
   "outputs": [],
   "source": [
    "fdp = FightDataPreprocessor()\n"
   ]
  },
  {
   "cell_type": "code",
   "execution_count": 3,
   "metadata": {},
   "outputs": [
    {
     "name": "stdout",
     "output_type": "stream",
     "text": [
      "/Users/charlespierse/PycharmProjects/UFC_Fight_Predictor/Fight_Predictor\n",
      "/Users/charlespierse/PycharmProjects/UFC_Fight_Predictor/Fight_Predictor/Fight_Predictor/Fights_scraper/spiders/scraped_fighters.csv\n"
     ]
    },
    {
     "ename": "SystemExit",
     "evalue": "Unable to read Fighters file from disk. Exiting.",
     "output_type": "error",
     "traceback": [
      "An exception has occurred, use %tb to see the full traceback.\n",
      "\u001b[0;31mSystemExit\u001b[0m\u001b[0;31m:\u001b[0m Unable to read Fighters file from disk. Exiting.\n"
     ]
    },
    {
     "name": "stderr",
     "output_type": "stream",
     "text": [
      "/Users/charlespierse/anaconda3/lib/python3.7/site-packages/IPython/core/interactiveshell.py:3275: UserWarning: To exit: use 'exit', 'quit', or Ctrl-D.\n",
      "  warn(\"To exit: use 'exit', 'quit', or Ctrl-D.\", stacklevel=1)\n"
     ]
    }
   ],
   "source": [
    "fighters = fdp.get_fighters()"
   ]
  },
  {
   "cell_type": "code",
   "execution_count": 10,
   "metadata": {},
   "outputs": [
    {
     "data": {
      "text/html": [
       "<div>\n",
       "<style scoped>\n",
       "    .dataframe tbody tr th:only-of-type {\n",
       "        vertical-align: middle;\n",
       "    }\n",
       "\n",
       "    .dataframe tbody tr th {\n",
       "        vertical-align: top;\n",
       "    }\n",
       "\n",
       "    .dataframe thead th {\n",
       "        text-align: right;\n",
       "    }\n",
       "</style>\n",
       "<table border=\"1\" class=\"dataframe\">\n",
       "  <thead>\n",
       "    <tr style=\"text-align: right;\">\n",
       "      <th></th>\n",
       "      <th>date_of_birth</th>\n",
       "      <th>fighter_name</th>\n",
       "      <th>fighter_record</th>\n",
       "      <th>height</th>\n",
       "      <th>reach</th>\n",
       "      <th>sapm</th>\n",
       "      <th>slpm</th>\n",
       "      <th>stance</th>\n",
       "      <th>strike_acc</th>\n",
       "      <th>strike_def</th>\n",
       "      <th>sub_avg</th>\n",
       "      <th>td_acc</th>\n",
       "      <th>td_avg</th>\n",
       "      <th>td_def</th>\n",
       "      <th>weight</th>\n",
       "    </tr>\n",
       "  </thead>\n",
       "  <tbody>\n",
       "    <tr>\n",
       "      <th>0</th>\n",
       "      <td>Jun 25 1981</td>\n",
       "      <td>Luciano Azevedo</td>\n",
       "      <td>Record: 16-9-1</td>\n",
       "      <td>6' 3\"</td>\n",
       "      <td>NaN</td>\n",
       "      <td>1.97</td>\n",
       "      <td>0.76</td>\n",
       "      <td>Orthodox</td>\n",
       "      <td>45</td>\n",
       "      <td>27.0</td>\n",
       "      <td>0.0</td>\n",
       "      <td>11</td>\n",
       "      <td>2.28</td>\n",
       "      <td>0</td>\n",
       "      <td>161.0</td>\n",
       "    </tr>\n",
       "    <tr>\n",
       "      <th>1</th>\n",
       "      <td>Jul 17 1990</td>\n",
       "      <td>Michael Byrnes</td>\n",
       "      <td>Record: 5-2-0</td>\n",
       "      <td>5' 11\"</td>\n",
       "      <td>NaN</td>\n",
       "      <td>0.00</td>\n",
       "      <td>0.00</td>\n",
       "      <td>NaN</td>\n",
       "      <td>0</td>\n",
       "      <td>0.0</td>\n",
       "      <td>0.0</td>\n",
       "      <td>0</td>\n",
       "      <td>0.00</td>\n",
       "      <td>0</td>\n",
       "      <td>155.0</td>\n",
       "    </tr>\n",
       "    <tr>\n",
       "      <th>2</th>\n",
       "      <td>Feb 07 1989</td>\n",
       "      <td>Gleidson Cutis</td>\n",
       "      <td>Record: 7-3-0</td>\n",
       "      <td>5' 9\"</td>\n",
       "      <td>NaN</td>\n",
       "      <td>8.28</td>\n",
       "      <td>2.99</td>\n",
       "      <td>Orthodox</td>\n",
       "      <td>52</td>\n",
       "      <td>59.0</td>\n",
       "      <td>0.0</td>\n",
       "      <td>0</td>\n",
       "      <td>0.00</td>\n",
       "      <td>0</td>\n",
       "      <td>155.0</td>\n",
       "    </tr>\n",
       "    <tr>\n",
       "      <th>3</th>\n",
       "      <td>Aug 11 1990</td>\n",
       "      <td>Rolando Dy</td>\n",
       "      <td>Record: 9-7-1 (1 NC)</td>\n",
       "      <td>5' 8\"</td>\n",
       "      <td>69.0</td>\n",
       "      <td>4.47</td>\n",
       "      <td>3.04</td>\n",
       "      <td>Orthodox</td>\n",
       "      <td>37</td>\n",
       "      <td>52.0</td>\n",
       "      <td>0.0</td>\n",
       "      <td>20</td>\n",
       "      <td>0.30</td>\n",
       "      <td>68</td>\n",
       "      <td>145.0</td>\n",
       "    </tr>\n",
       "    <tr>\n",
       "      <th>4</th>\n",
       "      <td>Jul 27 1986</td>\n",
       "      <td>Jessica Eye</td>\n",
       "      <td>Record: 14-6-0 (1 NC)</td>\n",
       "      <td>5' 6\"</td>\n",
       "      <td>66.0</td>\n",
       "      <td>3.43</td>\n",
       "      <td>3.63</td>\n",
       "      <td>Orthodox</td>\n",
       "      <td>36</td>\n",
       "      <td>60.0</td>\n",
       "      <td>0.7</td>\n",
       "      <td>50</td>\n",
       "      <td>0.53</td>\n",
       "      <td>60</td>\n",
       "      <td>125.0</td>\n",
       "    </tr>\n",
       "  </tbody>\n",
       "</table>\n",
       "</div>"
      ],
      "text/plain": [
       "  date_of_birth     fighter_name  ...   td_def weight\n",
       "0   Jun 25 1981  Luciano Azevedo  ...        0  161.0\n",
       "1   Jul 17 1990   Michael Byrnes  ...        0  155.0\n",
       "2   Feb 07 1989   Gleidson Cutis  ...        0  155.0\n",
       "3   Aug 11 1990       Rolando Dy  ...       68  145.0\n",
       "4   Jul 27 1986      Jessica Eye  ...       60  125.0\n",
       "\n",
       "[5 rows x 15 columns]"
      ]
     },
     "execution_count": 10,
     "metadata": {},
     "output_type": "execute_result"
    }
   ],
   "source": [
    "fighters.head()"
   ]
  },
  {
   "cell_type": "code",
   "execution_count": 11,
   "metadata": {},
   "outputs": [],
   "source": [
    "def get_fighter_details(fighter_name):\n",
    "    return fighters[fighters.fighter_name==fighter_name]\n",
    "    "
   ]
  },
  {
   "cell_type": "code",
   "execution_count": 12,
   "metadata": {},
   "outputs": [
    {
     "data": {
      "text/html": [
       "<div>\n",
       "<style scoped>\n",
       "    .dataframe tbody tr th:only-of-type {\n",
       "        vertical-align: middle;\n",
       "    }\n",
       "\n",
       "    .dataframe tbody tr th {\n",
       "        vertical-align: top;\n",
       "    }\n",
       "\n",
       "    .dataframe thead th {\n",
       "        text-align: right;\n",
       "    }\n",
       "</style>\n",
       "<table border=\"1\" class=\"dataframe\">\n",
       "  <thead>\n",
       "    <tr style=\"text-align: right;\">\n",
       "      <th></th>\n",
       "      <th>date_of_birth</th>\n",
       "      <th>fighter_name</th>\n",
       "      <th>fighter_record</th>\n",
       "      <th>height</th>\n",
       "      <th>reach</th>\n",
       "      <th>sapm</th>\n",
       "      <th>slpm</th>\n",
       "      <th>stance</th>\n",
       "      <th>strike_acc</th>\n",
       "      <th>strike_def</th>\n",
       "      <th>sub_avg</th>\n",
       "      <th>td_acc</th>\n",
       "      <th>td_avg</th>\n",
       "      <th>td_def</th>\n",
       "      <th>weight</th>\n",
       "    </tr>\n",
       "  </thead>\n",
       "  <tbody>\n",
       "    <tr>\n",
       "      <th>87</th>\n",
       "      <td>Jan 27 1987</td>\n",
       "      <td>Anthony Pettis</td>\n",
       "      <td>Record: 22-8-0</td>\n",
       "      <td>5' 10\"</td>\n",
       "      <td>72.0</td>\n",
       "      <td>3.22</td>\n",
       "      <td>2.87</td>\n",
       "      <td>Orthodox</td>\n",
       "      <td>45</td>\n",
       "      <td>54.0</td>\n",
       "      <td>1.2</td>\n",
       "      <td>54</td>\n",
       "      <td>0.73</td>\n",
       "      <td>58</td>\n",
       "      <td>170.0</td>\n",
       "    </tr>\n",
       "  </tbody>\n",
       "</table>\n",
       "</div>"
      ],
      "text/plain": [
       "   date_of_birth    fighter_name  fighter_record   ...   td_avg  td_def  weight\n",
       "87   Jan 27 1987  Anthony Pettis  Record: 22-8-0   ...     0.73      58   170.0\n",
       "\n",
       "[1 rows x 15 columns]"
      ]
     },
     "execution_count": 12,
     "metadata": {},
     "output_type": "execute_result"
    }
   ],
   "source": [
    "get_fighter_details('Conor McGregor')\n",
    "get_fighter_details('Anthony Pettis')"
   ]
  },
  {
   "cell_type": "code",
   "execution_count": 18,
   "metadata": {},
   "outputs": [
    {
     "data": {
      "text/plain": [
       "'/Users/charlespierse/PycharmProjects/UFC_Fight_Predictor/Fight_Predictor'"
      ]
     },
     "execution_count": 18,
     "metadata": {},
     "output_type": "execute_result"
    }
   ],
   "source": [
    "import os\n",
    "\n",
    "os.getcwd()"
   ]
  },
  {
   "cell_type": "code",
   "execution_count": 20,
   "metadata": {},
   "outputs": [
    {
     "name": "stdout",
     "output_type": "stream",
     "text": [
      "WARNING:tensorflow:From /Users/charlespierse/anaconda3/lib/python3.7/site-packages/tensorflow/python/ops/resource_variable_ops.py:435: colocate_with (from tensorflow.python.framework.ops) is deprecated and will be removed in a future version.\n",
      "Instructions for updating:\n",
      "Colocations handled automatically by placer.\n",
      "WARNING:tensorflow:From /Users/charlespierse/anaconda3/lib/python3.7/site-packages/tensorflow/python/keras/layers/core.py:143: calling dropout (from tensorflow.python.ops.nn_ops) with keep_prob is deprecated and will be removed in a future version.\n",
      "Instructions for updating:\n",
      "Please use `rate` instead of `keep_prob`. Rate should be set to `rate = 1 - keep_prob`.\n",
      "WARNING:tensorflow:From /Users/charlespierse/anaconda3/lib/python3.7/site-packages/tensorflow/python/ops/math_ops.py:3066: to_int32 (from tensorflow.python.ops.math_ops) is deprecated and will be removed in a future version.\n",
      "Instructions for updating:\n",
      "Use tf.cast instead.\n"
     ]
    },
    {
     "data": {
      "text/plain": [
       "<tensorflow.python.keras.engine.sequential.Sequential at 0x1a2e67a400>"
      ]
     },
     "execution_count": 20,
     "metadata": {},
     "output_type": "execute_result"
    }
   ],
   "source": [
    "tf.models.load_model(os.getcwd()+'/Saved_Models/Winner_Prediction_Models/bout_winner.h5')"
   ]
  },
  {
   "cell_type": "code",
   "execution_count": null,
   "metadata": {},
   "outputs": [],
   "source": [
    "def pass_fighters_through_pipeline(fighter1,fighter2):\n",
    "    "
   ]
  }
 ],
 "metadata": {
  "kernelspec": {
   "display_name": "Python 3",
   "language": "python",
   "name": "python3"
  },
  "language_info": {
   "codemirror_mode": {
    "name": "ipython",
    "version": 3
   },
   "file_extension": ".py",
   "mimetype": "text/x-python",
   "name": "python",
   "nbconvert_exporter": "python",
   "pygments_lexer": "ipython3",
   "version": "3.7.1"
  }
 },
 "nbformat": 4,
 "nbformat_minor": 2
}
